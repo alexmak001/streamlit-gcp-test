{
 "cells": [
  {
   "cell_type": "code",
   "execution_count": 1,
   "metadata": {},
   "outputs": [],
   "source": [
    "from langchain_google_vertexai import ChatVertexAI\n",
    "from langchain_google_vertexai import VertexAI"
   ]
  },
  {
   "cell_type": "code",
   "execution_count": 2,
   "metadata": {},
   "outputs": [],
   "source": [
    "import os\n",
    "os.environ[\"GOOGLE_APPLICATION_CREDENTIALS\"]= \"secrets/glossy-attic-415618-93704b0714e2.json\""
   ]
  },
  {
   "cell_type": "code",
   "execution_count": 3,
   "metadata": {},
   "outputs": [],
   "source": [
    "model = VertexAI(model_name=\"gemini-pro\")"
   ]
  },
  {
   "cell_type": "code",
   "execution_count": 4,
   "metadata": {},
   "outputs": [],
   "source": [
    "llm = ChatVertexAI(model_name=\"gemini-pro\",project_id=\"glossy-attic-415618\")\n"
   ]
  },
  {
   "cell_type": "code",
   "execution_count": 5,
   "metadata": {},
   "outputs": [],
   "source": [
    "#llm.invoke(\"who are you?\")"
   ]
  },
  {
   "cell_type": "markdown",
   "metadata": {},
   "source": [
    "#### LangChain Guide\n",
    "https://medium.com/google-cloud/question-a-web-page-using-vertex-ai-palm-api-langchain-and-streamlit-8b56f0753cec"
   ]
  },
  {
   "cell_type": "code",
   "execution_count": 1,
   "metadata": {},
   "outputs": [],
   "source": [
    "#import libraries\n",
    "import vertexai\n",
    "from langchain.llms import VertexAI\n",
    "from langchain.embeddings import VertexAIEmbeddings\n",
    "\n",
    "import streamlit as st\n",
    "import requests\n",
    "from bs4 import BeautifulSoup\n",
    "\n",
    "from langchain.document_loaders import TextLoader\n",
    "from langchain.indexes import VectorstoreIndexCreator\n",
    "from langchain.vectorstores import DocArrayInMemorySearch"
   ]
  },
  {
   "cell_type": "code",
   "execution_count": 7,
   "metadata": {},
   "outputs": [
    {
     "name": "stderr",
     "output_type": "stream",
     "text": [
      "/home/alex/anaconda3/envs/gcptest/lib/python3.12/site-packages/langchain_core/_api/deprecation.py:119: LangChainDeprecationWarning: The class `VertexAI` was deprecated in LangChain 0.0.12 and will be removed in 0.2.0. An updated version of the class exists in the langchain-google-vertexai package and should be used instead. To use it run `pip install -U langchain-google-vertexai` and import as `from langchain_google_vertexai import VertexAI`.\n",
      "  warn_deprecated(\n",
      "/home/alex/anaconda3/envs/gcptest/lib/python3.12/site-packages/langchain_core/_api/deprecation.py:119: LangChainDeprecationWarning: The class `VertexAIEmbeddings` was deprecated in LangChain 0.0.12 and will be removed in 0.2.0. An updated version of the class exists in the langchain-google-vertexai package and should be used instead. To use it run `pip install -U langchain-google-vertexai` and import as `from langchain_google_vertexai import VertexAIEmbeddings`.\n",
      "  warn_deprecated(\n",
      "Model_name will become a required arg for VertexAIEmbeddings starting from Feb-01-2024. Currently the default is set to textembedding-gecko@001\n"
     ]
    }
   ],
   "source": [
    "# gets model\n",
    "llm = VertexAI(\n",
    "    model_name=\"gemini-pro\",\n",
    "    max_output_tokens=256,\n",
    "    temperature=0.1,\n",
    "    top_p=0.8,\n",
    "    top_k=40,\n",
    "    verbose=True,)\n",
    "\n",
    "embeddings = VertexAIEmbeddings()"
   ]
  },
  {
   "cell_type": "code",
   "execution_count": 8,
   "metadata": {},
   "outputs": [],
   "source": [
    "### Gets text from webpage\n",
    "def get_text(url):\n",
    "   # Send a GET request to the URL\n",
    "   response = requests.get(url)\n",
    "\n",
    "   # Create a BeautifulSoup object with the HTML content\n",
    "   soup = BeautifulSoup(response.content, \"html.parser\")\n",
    "\n",
    "   # Find the specific element or elements containing the text you want to scrape\n",
    "   # Here, we'll find all <p> tags and extract their text\n",
    "   paragraphs = soup.find_all(\"p\")\n",
    "\n",
    "   # Loop through the paragraphs and print their text\n",
    "   with open(\"text\\\\temp.txt\", \"w\", encoding='utf-8') as file:\n",
    "       # Loop through the paragraphs and write their text to the file\n",
    "       for paragraph in paragraphs:\n",
    "           file.write(paragraph.get_text() + \"\\n\")"
   ]
  },
  {
   "cell_type": "code",
   "execution_count": 9,
   "metadata": {},
   "outputs": [],
   "source": [
    "### caches unserializable objects that you dont want t oload multiple times\n",
    "# saves things that cannot be stored in a database\n",
    "@st.cache_resource\n",
    "def create_langchain_index(input_text):\n",
    "    print(\"--indexing---\")\n",
    "    get_text(input_text)\n",
    "    loader = TextLoader(\"text\\\\temp.txt\", encoding='utf-8')\n",
    "    # data = loader.load()\n",
    "\n",
    "    index = VectorstoreIndexCreator(vectorstore_cls=DocArrayInMemorySearch,\n",
    "              embedding=embeddings).from_loaders([loader])\n",
    "    # using vertex ai embeddings initialized above\n",
    "    return index"
   ]
  },
  {
   "cell_type": "code",
   "execution_count": 10,
   "metadata": {},
   "outputs": [
    {
     "name": "stderr",
     "output_type": "stream",
     "text": [
      "2024-04-23 16:39:34.838 WARNING streamlit.runtime.caching.cache_data_api: No runtime found, using MemoryCacheStorageManager\n"
     ]
    }
   ],
   "source": [
    "### checks if function called with same paramteres and code\n",
    "### saves data that is structured and can be out in a database\n",
    "@st.cache_data\n",
    "def get_response(input_text,query):\n",
    "    print(f\"--querying---{query}\")\n",
    "    response = index.query(query,llm=llm)\n",
    "    return response"
   ]
  },
  {
   "cell_type": "code",
   "execution_count": 11,
   "metadata": {},
   "outputs": [],
   "source": [
    "input_text = \"https://apnews.com/article/illicit-marijuana-operation-charges-maine-ad17b4bf2cab5cf4379fac394045335b\""
   ]
  },
  {
   "cell_type": "code",
   "execution_count": 13,
   "metadata": {},
   "outputs": [
    {
     "name": "stdout",
     "output_type": "stream",
     "text": [
      "--indexing---\n"
     ]
    },
    {
     "name": "stderr",
     "output_type": "stream",
     "text": [
      "/home/alex/anaconda3/envs/gcptest/lib/python3.12/site-packages/pydantic/_migration.py:283: UserWarning: `pydantic.error_wrappers:ValidationError` has been moved to `pydantic:ValidationError`.\n",
      "  warnings.warn(f'`{import_path}` has been moved to `{new_location}`.')\n",
      "2024-04-23 16:40:37.785 No runtime found, using MemoryCacheStorageManager\n"
     ]
    },
    {
     "name": "stdout",
     "output_type": "stream",
     "text": [
      "--querying---Write a 100 words summary of the document\n",
      "--querying---Write a twitter tweet and add hashtags\n",
      "--querying---Write a linkedin post for the document\n"
     ]
    }
   ],
   "source": [
    "index = create_langchain_index(input_text)\n",
    "summary_query =\"Write a 100 words summary of the document\"\n",
    "summary_response = get_response(input_text,summary_query)\n",
    "\n",
    "tweet_query =\"Write a twitter tweet and add hashtags\"\n",
    "tweet_response =  get_response(input_text,tweet_query)\n",
    "\n",
    "ln_query =\"Write a linkedin post for the document\"\n",
    "ln_response = get_response(input_text,ln_query)"
   ]
  },
  {
   "cell_type": "code",
   "execution_count": 31,
   "metadata": {},
   "outputs": [
    {
     "data": {
      "text/plain": [
       "'## Summary of the Document:\\n\\nThis article reports on the increasing problem of illegal marijuana grow operations in Maine, with a focus on a recent case involving a Chinese national. The article highlights the challenges posed by these operations, which often involve sophisticated setups and connections to international trafficking networks. Law enforcement agencies are working to combat these operations, using tactics such as monitoring utility bills and collaborating across jurisdictions. The article concludes by emphasizing the need for continued vigilance and collaboration to address this issue. \\n'"
      ]
     },
     "execution_count": 31,
     "metadata": {},
     "output_type": "execute_result"
    }
   ],
   "source": [
    "summary_response"
   ]
  },
  {
   "cell_type": "code",
   "execution_count": 32,
   "metadata": {},
   "outputs": [
    {
     "data": {
      "text/plain": [
       "'## Maine authorities bust illicit marijuana grow operation run by Chinese national \\n\\n**40 pounds of processed marijuana seized, investigation into international criminal organization continues.** #Maine #Marijuana #IllicitGrow #DEA #FBI #OrganizedCrime \\n\\n**Source:** AP News \\n'"
      ]
     },
     "execution_count": 32,
     "metadata": {},
     "output_type": "execute_result"
    }
   ],
   "source": [
    "tweet_response"
   ]
  },
  {
   "cell_type": "code",
   "execution_count": 33,
   "metadata": {},
   "outputs": [
    {
     "data": {
      "text/plain": [
       "'## Maine authorities shut down illegal marijuana grow operation with international ties\\n\\n**A Chinese citizen has been arrested in Maine for allegedly running a high-tech, illicit marijuana grow operation in a rural home.** The operation was discovered after law enforcement officials noticed a significant increase in the home\\'s electricity usage. \\n\\n**According to court documents, the home\\'s electric capability was doubled, and the monthly electricity bill went from $300 to nearly $9,000.** This, along with other factors, led authorities to suspect illegal activity. \\n\\n**The operation was raided in February, and 40 pounds of processed marijuana were seized.** The home owner, a limited liability company, has not yet been charged. Two other individuals who were present at the time of the raid were released without charges.\\n\\n**This case highlights the growing problem of illegal marijuana grow operations with international connections.** Law enforcement officials are concerned that these operations are using states where marijuana is legal to grow and traffic the drug to states where it is illegal.\\n\\n**U.S. Attorney Darcie McElwee said that thwarting these operations is a priority for law enforcement.** \"We will continue to marshal every tool at our disposal in this effort as appropriate,\" she said.\\n\\n**This case'"
      ]
     },
     "execution_count": 33,
     "metadata": {},
     "output_type": "execute_result"
    }
   ],
   "source": [
    "ln_response"
   ]
  },
  {
   "cell_type": "code",
   "execution_count": null,
   "metadata": {},
   "outputs": [],
   "source": []
  },
  {
   "cell_type": "markdown",
   "metadata": {},
   "source": [
    "### Working with secret"
   ]
  },
  {
   "cell_type": "code",
   "execution_count": 2,
   "metadata": {},
   "outputs": [],
   "source": [
    "import json"
   ]
  },
  {
   "cell_type": "code",
   "execution_count": 5,
   "metadata": {},
   "outputs": [],
   "source": [
    "#json.load(open(\"secrets/glossy-attic-415618-93704b0714e2.json\"))"
   ]
  },
  {
   "cell_type": "code",
   "execution_count": null,
   "metadata": {},
   "outputs": [],
   "source": []
  }
 ],
 "metadata": {
  "kernelspec": {
   "display_name": "base",
   "language": "python",
   "name": "python3"
  },
  "language_info": {
   "codemirror_mode": {
    "name": "ipython",
    "version": 3
   },
   "file_extension": ".py",
   "mimetype": "text/x-python",
   "name": "python",
   "nbconvert_exporter": "python",
   "pygments_lexer": "ipython3",
   "version": "3.12.3"
  }
 },
 "nbformat": 4,
 "nbformat_minor": 2
}
